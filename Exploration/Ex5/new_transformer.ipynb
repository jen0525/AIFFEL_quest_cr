{
 "cells": [
  {
   "cell_type": "markdown",
   "id": "ab19dad1",
   "metadata": {},
   "source": [
    "# 한국어 챗봇 트랜스포머 구현"
   ]
  },
  {
   "cell_type": "code",
   "execution_count": 1,
   "id": "a7bd9e23",
   "metadata": {},
   "outputs": [],
   "source": [
    "import tensorflow as tf\n",
    "import numpy as np\n",
    "import matplotlib.pyplot as plt\n",
    "import pandas as pd\n",
    "import os\n",
    "import re\n",
    "import time\n",
    "import json\n",
    "import requests\n",
    "from tqdm import tqdm\n",
    "import pickle\n",
    "import datetime\n",
    "from sklearn.model_selection import train_test_split"
   ]
  },
  {
   "cell_type": "markdown",
   "id": "1b7d646f",
   "metadata": {},
   "source": [
    "이 노트북은 한국어 챗봇 데이터셋(https://github.com/songys/Chatbot_data/blob/master/ChatbotData.csv)을 기반으로 트랜스포머 모델을 구현합니다."
   ]
  },
  {
   "cell_type": "markdown",
   "id": "bbe500ab",
   "metadata": {},
   "source": [
    "## Step 1. 데이터 수집하기"
   ]
  },
  {
   "cell_type": "code",
   "execution_count": 2,
   "id": "58b91b7b",
   "metadata": {},
   "outputs": [
    {
     "data": {
      "text/html": [
       "<div>\n",
       "<style scoped>\n",
       "    .dataframe tbody tr th:only-of-type {\n",
       "        vertical-align: middle;\n",
       "    }\n",
       "\n",
       "    .dataframe tbody tr th {\n",
       "        vertical-align: top;\n",
       "    }\n",
       "\n",
       "    .dataframe thead th {\n",
       "        text-align: right;\n",
       "    }\n",
       "</style>\n",
       "<table border=\"1\" class=\"dataframe\">\n",
       "  <thead>\n",
       "    <tr style=\"text-align: right;\">\n",
       "      <th></th>\n",
       "      <th>Q</th>\n",
       "      <th>A</th>\n",
       "      <th>label</th>\n",
       "    </tr>\n",
       "  </thead>\n",
       "  <tbody>\n",
       "    <tr>\n",
       "      <th>0</th>\n",
       "      <td>12시 땡!</td>\n",
       "      <td>하루가 또 가네요.</td>\n",
       "      <td>0</td>\n",
       "    </tr>\n",
       "    <tr>\n",
       "      <th>1</th>\n",
       "      <td>1지망 학교 떨어졌어</td>\n",
       "      <td>위로해 드립니다.</td>\n",
       "      <td>0</td>\n",
       "    </tr>\n",
       "    <tr>\n",
       "      <th>2</th>\n",
       "      <td>3박4일 놀러가고 싶다</td>\n",
       "      <td>여행은 언제나 좋죠.</td>\n",
       "      <td>0</td>\n",
       "    </tr>\n",
       "    <tr>\n",
       "      <th>3</th>\n",
       "      <td>3박4일 정도 놀러가고 싶다</td>\n",
       "      <td>여행은 언제나 좋죠.</td>\n",
       "      <td>0</td>\n",
       "    </tr>\n",
       "    <tr>\n",
       "      <th>4</th>\n",
       "      <td>PPL 심하네</td>\n",
       "      <td>눈살이 찌푸려지죠.</td>\n",
       "      <td>0</td>\n",
       "    </tr>\n",
       "  </tbody>\n",
       "</table>\n",
       "</div>"
      ],
      "text/plain": [
       "                 Q            A  label\n",
       "0           12시 땡!   하루가 또 가네요.      0\n",
       "1      1지망 학교 떨어졌어    위로해 드립니다.      0\n",
       "2     3박4일 놀러가고 싶다  여행은 언제나 좋죠.      0\n",
       "3  3박4일 정도 놀러가고 싶다  여행은 언제나 좋죠.      0\n",
       "4          PPL 심하네   눈살이 찌푸려지죠.      0"
      ]
     },
     "execution_count": 2,
     "metadata": {},
     "output_type": "execute_result"
    }
   ],
   "source": [
    "import pandas as pd\n",
    "\n",
    "url = \"https://raw.githubusercontent.com/songys/Chatbot_data/master/ChatbotData.csv\"\n",
    "train_data = pd.read_csv(url)\n",
    "\n",
    "train_data.head()"
   ]
  },
  {
   "cell_type": "code",
   "execution_count": 3,
   "id": "63b8f126",
   "metadata": {},
   "outputs": [
    {
     "name": "stdout",
     "output_type": "stream",
     "text": [
      "챗봇 샘플의 개수 : 11823\n"
     ]
    }
   ],
   "source": [
    "print(\"챗봇 샘플의 개수 :\", len(train_data))"
   ]
  },
  {
   "cell_type": "markdown",
   "id": "9e825961",
   "metadata": {},
   "source": [
    "## Step 2. 데이터 전처리하기"
   ]
  },
  {
   "cell_type": "code",
   "execution_count": 4,
   "id": "ee4bdf5d",
   "metadata": {},
   "outputs": [
    {
     "name": "stdout",
     "output_type": "stream",
     "text": [
      "Q        0\n",
      "A        0\n",
      "label    0\n",
      "dtype: int64\n"
     ]
    }
   ],
   "source": [
    "print(train_data.isnull().sum())"
   ]
  },
  {
   "cell_type": "code",
   "execution_count": 5,
   "id": "47750657",
   "metadata": {},
   "outputs": [],
   "source": [
    "def preprocess_sentence(sentence):\n",
    "    sentence = sentence.lower().strip()\n",
    "    sentence = re.sub(r\"([?.!,])\", r\" \\1 \", sentence)\n",
    "    sentence = re.sub(r'[\" \"]+', \" \", sentence)\n",
    "    sentence = sentence.strip()\n",
    "    return sentence\n",
    "\n",
    "\n",
    "def load_conversations(questions, answers):\n",
    "    inputs, outputs = [], []\n",
    "\n",
    "    for question, answer in zip(questions, answers):\n",
    "        inputs.append(preprocess_sentence(question))\n",
    "        outputs.append(preprocess_sentence(answer))\n",
    "    return inputs, outputs"
   ]
  },
  {
   "cell_type": "code",
   "execution_count": 6,
   "id": "0f94ebbf",
   "metadata": {},
   "outputs": [],
   "source": [
    "# 원본 데이터에서 질문과 답변 추출\n",
    "raw_questions = train_data[\"Q\"]\n",
    "raw_answers = train_data[\"A\"]\n",
    "\n",
    "# 전처리된 질문과 답변 리스트 생성\n",
    "questions, answers = load_conversations(raw_questions, raw_answers)"
   ]
  },
  {
   "cell_type": "code",
   "execution_count": 7,
   "id": "5676390a",
   "metadata": {},
   "outputs": [
    {
     "name": "stdout",
     "output_type": "stream",
     "text": [
      "전처리 후의 123번째 질문 샘플: 걸어 가고 있는데 깜깜해서 무서워\n",
      "전처리 후의 123번째 답변 샘플: 안전 귀가 하세요 .\n"
     ]
    }
   ],
   "source": [
    "print(\"전처리 후의 123번째 질문 샘플: {}\".format(questions[122]))\n",
    "print(\"전처리 후의 123번째 답변 샘플: {}\".format(answers[122]))"
   ]
  },
  {
   "cell_type": "code",
   "execution_count": 8,
   "id": "dad5a9bc",
   "metadata": {},
   "outputs": [
    {
     "name": "stdout",
     "output_type": "stream",
     "text": [
      "['12시 땡 !', '1지망 학교 떨어졌어', '3박4일 놀러가고 싶다', '3박4일 정도 놀러가고 싶다', 'ppl 심하네']\n",
      "['하루가 또 가네요 .', '위로해 드립니다 .', '여행은 언제나 좋죠 .', '여행은 언제나 좋죠 .', '눈살이 찌푸려지죠 .']\n"
     ]
    }
   ],
   "source": [
    "print(questions[:5])\n",
    "print(answers[:5])"
   ]
  },
  {
   "cell_type": "markdown",
   "id": "f40adda2",
   "metadata": {},
   "source": [
    "## Step 3. SubwordTextEncoder 대신 WordPieceTokenizer + 형태소 분석기(Mecab) 사용하기"
   ]
  },
  {
   "cell_type": "markdown",
   "id": "d76647e2",
   "metadata": {},
   "source": [
    "•\t한국어는 띄어쓰기와 어순이 유동적인 언어이기 때문에, 단순한 Subword 방식보다는 형태소 분석기를 사용하는 것이 더욱 효과적일 수 있음 <br>\n",
    "•\t따라서 여기서는 Mecab을 이용해 형태소 단위로 나눈 후, BertWordPieceTokenizer로 subword 단위를 학습함 <br>\n",
    "•\t이를 통해 보다 의미 단위에 가까운 토큰화를 달성하고, 한국어 문장에 더 잘 맞는 토크나이저를 구성함<br>"
   ]
  },
  {
   "cell_type": "code",
   "execution_count": 9,
   "id": "c2cd3802",
   "metadata": {},
   "outputs": [],
   "source": [
    "from konlpy.tag import Mecab\n",
    "\n",
    "mecab = Mecab()\n",
    "\n",
    "\n",
    "def tokenize_with_mecab(sentence):\n",
    "    return mecab.morphs(sentence)"
   ]
  },
  {
   "cell_type": "code",
   "execution_count": 10,
   "id": "004e9a0a",
   "metadata": {},
   "outputs": [
    {
     "name": "stdout",
     "output_type": "stream",
     "text": [
      "\n",
      "\n",
      "\n"
     ]
    },
    {
     "data": {
      "text/plain": [
       "['/aiffel/aiffel/chatbot/wordpiece_mecab/vocab.txt']"
      ]
     },
     "execution_count": 10,
     "metadata": {},
     "output_type": "execute_result"
    }
   ],
   "source": [
    "from tokenizers import BertWordPieceTokenizer\n",
    "save_dir = os.path.expanduser(\"~/aiffel/chatbot/wordpiece_mecab\")\n",
    "os.makedirs(save_dir, exist_ok=True)\n",
    "\n",
    "# mecab 기반 토큰 코퍼스 생성\n",
    "with open(\"mecab_token_corpus.txt\", \"w\", encoding=\"utf-8\") as f:\n",
    "    for q, a in zip(questions, answers):\n",
    "        f.write(\" \".join(tokenize_with_mecab(q)) + \"\\n\")\n",
    "        f.write(\" \".join(tokenize_with_mecab(a)) + \"\\n\")\n",
    "\n",
    "# WordPiece 토크나이저 학습\n",
    "tokenizer = BertWordPieceTokenizer(lowercase=False)\n",
    "tokenizer.train(\n",
    "    files=[\"mecab_token_corpus.txt\"],\n",
    "    vocab_size=8000,\n",
    "    special_tokens=[\"[PAD]\", \"[UNK]\", \"[CLS]\", \"[SEP]\", \"[MASK]\"],\n",
    ")\n",
    "\n",
    "# 저장 (같은 디렉토리에)\n",
    "tokenizer.save_model(save_dir)"
   ]
  },
  {
   "cell_type": "code",
   "execution_count": 11,
   "id": "07883b19",
   "metadata": {},
   "outputs": [],
   "source": [
    "# tokenizer.json도 별도로 저장\n",
    "tokenizer.save(os.path.join(save_dir, \"tokenizer.json\"))"
   ]
  },
  {
   "cell_type": "code",
   "execution_count": 12,
   "id": "def0188a",
   "metadata": {},
   "outputs": [
    {
     "name": "stdout",
     "output_type": "stream",
     "text": [
      "Token IDs: [2205, 5, 1798, 1887, 2020, 21]\n",
      "Tokens: ['안녕', '!', '오늘', '기분', '어때', '?']\n"
     ]
    }
   ],
   "source": [
    "from tokenizers import Tokenizer\n",
    "\n",
    "tokenizer = Tokenizer.from_file(\n",
    "    os.path.expanduser(\"~/aiffel/chatbot/wordpiece_mecab/tokenizer.json\")\n",
    ")\n",
    "output = tokenizer.encode(\"안녕! 오늘 기분 어때?\")\n",
    "print(\"Token IDs:\", output.ids)\n",
    "print(\"Tokens:\", output.tokens)"
   ]
  },
  {
   "cell_type": "code",
   "execution_count": 13,
   "id": "3c7f988f",
   "metadata": {},
   "outputs": [],
   "source": [
    "START_TOKEN = \"[CLS]\"\n",
    "END_TOKEN = \"[SEP]\"\n",
    "\n",
    "# 특수 토큰 ID 가져오기\n",
    "START_TOKEN_ID = tokenizer.token_to_id(START_TOKEN)\n",
    "END_TOKEN_ID = tokenizer.token_to_id(END_TOKEN)\n",
    "\n",
    "# 문장 인코딩 함수\n",
    "def encode_sentence(sentence):\n",
    "    tokens = tokenize_with_mecab(sentence)\n",
    "    token_ids = tokenizer.encode(\" \".join(tokens)).ids\n",
    "    return [START_TOKEN_ID] + token_ids + [END_TOKEN_ID]\n",
    "\n",
    "\n",
    "# 질문과 답변 각각 정수 인코딩\n",
    "input_ids = [encode_sentence(q) for q in questions]\n",
    "target_ids = [encode_sentence(a) for a in answers]\n",
    "\n",
    "# 타겟 데이터에서 decoder_input / decoder_target 분리\n",
    "decoder_input_ids = [tokens[:-1] for tokens in target_ids]  # [CLS] ~ 마지막-1\n",
    "decoder_target_ids = [tokens[1:] for tokens in target_ids]  # 두 번째 ~ [SEP]\n",
    "\n",
    "# 패딩 (최대 길이 맞춰줌)\n",
    "from tensorflow.keras.preprocessing.sequence import pad_sequences\n",
    "\n",
    "MAX_LENGTH = 40\n",
    "\n",
    "encoder_input = pad_sequences(input_ids, maxlen=MAX_LENGTH, padding=\"post\")\n",
    "decoder_input = pad_sequences(decoder_input_ids, maxlen=MAX_LENGTH, padding=\"post\")\n",
    "decoder_target = pad_sequences(decoder_target_ids, maxlen=MAX_LENGTH, padding=\"post\")\n",
    "\n",
    "# Tensorflow Dataset 생성\n",
    "import tensorflow as tf\n",
    "\n",
    "BATCH_SIZE = 64\n",
    "BUFFER_SIZE = 20000\n",
    "\n",
    "dataset = tf.data.Dataset.from_tensor_slices(\n",
    "    ({\"encoder_input\": encoder_input, \"decoder_input\": decoder_input}, decoder_target)\n",
    ")\n",
    "\n",
    "dataset = dataset.shuffle(BUFFER_SIZE).batch(BATCH_SIZE).prefetch(tf.data.AUTOTUNE)"
   ]
  },
  {
   "cell_type": "code",
   "execution_count": 14,
   "id": "beb5faeb",
   "metadata": {},
   "outputs": [
    {
     "name": "stdout",
     "output_type": "stream",
     "text": [
      "질문 토큰화 결과 크기: 11823\n",
      "대답 토큰화 결과 크기: 11823\n"
     ]
    }
   ],
   "source": [
    "print(f'질문 토큰화 결과 크기: {len(encoder_input)}')\n",
    "print(f'대답 토큰화 결과 크기: {len(decoder_input)}')"
   ]
  },
  {
   "cell_type": "markdown",
   "id": "dbc2c9b7",
   "metadata": {},
   "source": [
    "## Step 4. 모델 구성하기"
   ]
  },
  {
   "cell_type": "code",
   "execution_count": 15,
   "id": "1fa902f1",
   "metadata": {},
   "outputs": [],
   "source": [
    "# 위치 인코딩\n",
    "def get_angles(pos, i, d_model):\n",
    "    angle_rates = 1 / np.power(10000, (2 * (i//2)) / np.float32(d_model))\n",
    "    return pos * angle_rates\n",
    "\n",
    "def positional_encoding(position, d_model):\n",
    "    angle_rads = get_angles(np.arange(position)[:, np.newaxis],\n",
    "                            np.arange(d_model)[np.newaxis, :],\n",
    "                            d_model)\n",
    "\n",
    "    # sin 함수는 짝수 인덱스에 적용\n",
    "    angle_rads[:, 0::2] = np.sin(angle_rads[:, 0::2])\n",
    "\n",
    "    # cos 함수는 홀수 인덱스에 적용\n",
    "    angle_rads[:, 1::2] = np.cos(angle_rads[:, 1::2])\n",
    "\n",
    "    pos_encoding = angle_rads[np.newaxis, ...]\n",
    "\n",
    "    return tf.cast(pos_encoding, dtype=tf.float32)"
   ]
  },
  {
   "cell_type": "code",
   "execution_count": 16,
   "id": "c45d3c5a",
   "metadata": {},
   "outputs": [],
   "source": [
    "# 어텐션 마스킹 함수\n",
    "def create_padding_mask(seq):\n",
    "    seq = tf.cast(tf.math.equal(seq, 0), tf.float32)\n",
    "    return seq[:, tf.newaxis, tf.newaxis, :]  # (batch_size, 1, 1, seq_len)\n",
    "\n",
    "def create_look_ahead_mask(size):\n",
    "    mask = 1 - tf.linalg.band_part(tf.ones((size, size)), -1, 0)\n",
    "    return mask  # (seq_len, seq_len)"
   ]
  },
  {
   "cell_type": "code",
   "execution_count": 17,
   "id": "d3cc1f9f",
   "metadata": {},
   "outputs": [],
   "source": [
    "# 스케일드 닷 프로덕트 어텐션\n",
    "def scaled_dot_product_attention(q, k, v, mask):\n",
    "    # Q와 K의 곱셈 연산\n",
    "    matmul_qk = tf.matmul(q, k, transpose_b=True)\n",
    "\n",
    "    # 스케일링\n",
    "    dk = tf.cast(tf.shape(k)[-1], tf.float32)\n",
    "    scaled_attention_logits = matmul_qk / tf.math.sqrt(dk)\n",
    "\n",
    "    # 마스킹 적용\n",
    "    if mask is not None:\n",
    "        scaled_attention_logits += (mask * -1e9)\n",
    "\n",
    "    # 소프트맥스로 어텐션 가중치 계산\n",
    "    attention_weights = tf.nn.softmax(scaled_attention_logits, axis=-1)\n",
    "\n",
    "    # 가중치와 V 곱하기\n",
    "    output = tf.matmul(attention_weights, v)\n",
    "\n",
    "    return output, attention_weights"
   ]
  },
  {
   "cell_type": "code",
   "execution_count": 18,
   "id": "a56ac0b3",
   "metadata": {},
   "outputs": [],
   "source": [
    "# 멀티헤드 어텐션 레이어\n",
    "class MultiHeadAttention(tf.keras.layers.Layer):\n",
    "    def __init__(self, d_model, num_heads):\n",
    "        super(MultiHeadAttention, self).__init__()\n",
    "        self.num_heads = num_heads\n",
    "        self.d_model = d_model\n",
    "\n",
    "        assert d_model % self.num_heads == 0\n",
    "\n",
    "        self.depth = d_model // self.num_heads\n",
    "\n",
    "        self.wq = tf.keras.layers.Dense(d_model)\n",
    "        self.wk = tf.keras.layers.Dense(d_model)\n",
    "        self.wv = tf.keras.layers.Dense(d_model)\n",
    "\n",
    "        self.dense = tf.keras.layers.Dense(d_model)\n",
    "\n",
    "    def split_heads(self, x, batch_size):\n",
    "        x = tf.reshape(x, (batch_size, -1, self.num_heads, self.depth))\n",
    "        return tf.transpose(x, perm=[0, 2, 1, 3])\n",
    "\n",
    "    def call(self, v, k, q, mask):\n",
    "        batch_size = tf.shape(q)[0]\n",
    "\n",
    "        q = self.wq(q)  # (batch_size, seq_len, d_model)\n",
    "        k = self.wk(k)  # (batch_size, seq_len, d_model)\n",
    "        v = self.wv(v)  # (batch_size, seq_len, d_model)\n",
    "\n",
    "        q = self.split_heads(q, batch_size)  # (batch_size, num_heads, seq_len_q, depth)\n",
    "        k = self.split_heads(k, batch_size)  # (batch_size, num_heads, seq_len_k, depth)\n",
    "        v = self.split_heads(v, batch_size)  # (batch_size, num_heads, seq_len_v, depth)\n",
    "\n",
    "        # 스케일드 닷 프로덕트 어텐션 적용\n",
    "        scaled_attention, attention_weights = scaled_dot_product_attention(\n",
    "            q, k, v, mask)\n",
    "\n",
    "        scaled_attention = tf.transpose(scaled_attention, perm=[0, 2, 1, 3])  # (batch_size, seq_len_q, num_heads, depth)\n",
    "\n",
    "        concat_attention = tf.reshape(scaled_attention,\n",
    "                                      (batch_size, -1, self.d_model))  # (batch_size, seq_len_q, d_model)\n",
    "\n",
    "        output = self.dense(concat_attention)  # (batch_size, seq_len_q, d_model)\n",
    "\n",
    "        return output, attention_weights"
   ]
  },
  {
   "cell_type": "code",
   "execution_count": 19,
   "id": "2391323e",
   "metadata": {},
   "outputs": [],
   "source": [
    "# 포지션 와이즈 피드 포워드 네트워크\n",
    "def point_wise_feed_forward_network(d_model, dff):\n",
    "    return tf.keras.Sequential([\n",
    "        tf.keras.layers.Dense(dff, activation='relu'),  # (batch_size, seq_len, dff)\n",
    "        tf.keras.layers.Dense(d_model)  # (batch_size, seq_len, d_model)\n",
    "    ])"
   ]
  },
  {
   "cell_type": "code",
   "execution_count": 20,
   "id": "3658ec7e",
   "metadata": {},
   "outputs": [],
   "source": [
    "# 인코더 레이어\n",
    "class EncoderLayer(tf.keras.layers.Layer):\n",
    "    def __init__(self, d_model, num_heads, dff, rate=0.1):\n",
    "        super(EncoderLayer, self).__init__()\n",
    "\n",
    "        self.mha = MultiHeadAttention(d_model, num_heads)\n",
    "        self.ffn = point_wise_feed_forward_network(d_model, dff)\n",
    "\n",
    "        self.layernorm1 = tf.keras.layers.LayerNormalization(epsilon=1e-6)\n",
    "        self.layernorm2 = tf.keras.layers.LayerNormalization(epsilon=1e-6)\n",
    "\n",
    "        self.dropout1 = tf.keras.layers.Dropout(rate)\n",
    "        self.dropout2 = tf.keras.layers.Dropout(rate)\n",
    "\n",
    "    def call(self, x, training, mask):\n",
    "        attn_output, _ = self.mha(v=x, k=x, q=x, mask=mask)\n",
    "        attn_output = self.dropout1(attn_output, training=training)\n",
    "        out1 = self.layernorm1(x + attn_output)\n",
    "\n",
    "        ffn_output = self.ffn(out1)\n",
    "        ffn_output = self.dropout2(ffn_output, training=training)\n",
    "        out2 = self.layernorm2(out1 + ffn_output)\n",
    "\n",
    "        return out2"
   ]
  },
  {
   "cell_type": "code",
   "execution_count": 21,
   "id": "e263147b",
   "metadata": {},
   "outputs": [],
   "source": [
    "# 디코더 레이어\n",
    "class DecoderLayer(tf.keras.layers.Layer):\n",
    "    def __init__(self, d_model, num_heads, dff, rate=0.1):\n",
    "        super(DecoderLayer, self).__init__()\n",
    "\n",
    "        self.mha1 = MultiHeadAttention(d_model, num_heads)\n",
    "        self.mha2 = MultiHeadAttention(d_model, num_heads)\n",
    "\n",
    "        self.ffn = point_wise_feed_forward_network(d_model, dff)\n",
    "\n",
    "        self.layernorm1 = tf.keras.layers.LayerNormalization(epsilon=1e-6)\n",
    "        self.layernorm2 = tf.keras.layers.LayerNormalization(epsilon=1e-6)\n",
    "        self.layernorm3 = tf.keras.layers.LayerNormalization(epsilon=1e-6)\n",
    "\n",
    "        self.dropout1 = tf.keras.layers.Dropout(rate)\n",
    "        self.dropout2 = tf.keras.layers.Dropout(rate)\n",
    "        self.dropout3 = tf.keras.layers.Dropout(rate)\n",
    "\n",
    "    def call(self, x, enc_output, training,\n",
    "           look_ahead_mask, padding_mask):\n",
    "        # enc_output.shape == (batch_size, input_seq_len, d_model)\n",
    "\n",
    "        attn1, attn_weights_block1 = self.mha1(v=x, k=x, q=x, mask=look_ahead_mask)\n",
    "        attn1 = self.dropout1(attn1, training=training)\n",
    "        out1 = self.layernorm1(attn1 + x)\n",
    "\n",
    "        attn2, attn_weights_block2 = self.mha2(\n",
    "            v=enc_output, k=enc_output, q=out1, mask=padding_mask)\n",
    "        attn2 = self.dropout2(attn2, training=training)\n",
    "        out2 = self.layernorm2(attn2 + out1)\n",
    "\n",
    "        ffn_output = self.ffn(out2)\n",
    "        ffn_output = self.dropout3(ffn_output, training=training)\n",
    "        out3 = self.layernorm3(ffn_output + out2)\n",
    "\n",
    "        return out3, attn_weights_block1, attn_weights_block2"
   ]
  },
  {
   "cell_type": "code",
   "execution_count": 22,
   "id": "15b99ced",
   "metadata": {},
   "outputs": [],
   "source": [
    "# 인코더\n",
    "class Encoder(tf.keras.layers.Layer):\n",
    "    def __init__(self, num_layers, d_model, num_heads, dff, input_vocab_size,\n",
    "               maximum_position_encoding, rate=0.1):\n",
    "        super(Encoder, self).__init__()\n",
    "\n",
    "        self.d_model = d_model\n",
    "        self.num_layers = num_layers\n",
    "\n",
    "        self.embedding = tf.keras.layers.Embedding(input_vocab_size, d_model)\n",
    "        self.pos_encoding = positional_encoding(maximum_position_encoding,\n",
    "                                              self.d_model)\n",
    "\n",
    "        self.enc_layers = [EncoderLayer(d_model, num_heads, dff, rate)\n",
    "                         for _ in range(num_layers)]\n",
    "\n",
    "        self.dropout = tf.keras.layers.Dropout(rate)\n",
    "\n",
    "    def call(self, x, training, mask):\n",
    "        seq_len = tf.shape(x)[1]\n",
    "\n",
    "        # 입력을 임베딩\n",
    "        x = self.embedding(x)  # (batch_size, input_seq_len, d_model)\n",
    "        x *= tf.math.sqrt(tf.cast(self.d_model, tf.float32))\n",
    "        x += self.pos_encoding[:, :seq_len, :]\n",
    "\n",
    "        x = self.dropout(x, training=training)\n",
    "\n",
    "        for i in range(self.num_layers):\n",
    "            x = self.enc_layers[i](x=x, training=training, mask=mask)\n",
    "\n",
    "        return x  # (batch_size, input_seq_len, d_model)"
   ]
  },
  {
   "cell_type": "code",
   "execution_count": 23,
   "id": "1437a811",
   "metadata": {},
   "outputs": [],
   "source": [
    "# 디코더\n",
    "class Decoder(tf.keras.layers.Layer):\n",
    "    def __init__(self, num_layers, d_model, num_heads, dff, target_vocab_size,\n",
    "               maximum_position_encoding, rate=0.1):\n",
    "        super(Decoder, self).__init__()\n",
    "\n",
    "        self.d_model = d_model\n",
    "        self.num_layers = num_layers\n",
    "\n",
    "        self.embedding = tf.keras.layers.Embedding(target_vocab_size, d_model)\n",
    "        self.pos_encoding = positional_encoding(maximum_position_encoding, d_model)\n",
    "\n",
    "        self.dec_layers = [DecoderLayer(d_model, num_heads, dff, rate)\n",
    "                         for _ in range(num_layers)]\n",
    "        self.dropout = tf.keras.layers.Dropout(rate)\n",
    "\n",
    "    def call(self, x, enc_output, training,\n",
    "           look_ahead_mask, padding_mask):\n",
    "        seq_len = tf.shape(x)[1]\n",
    "        attention_weights = {}\n",
    "\n",
    "        x = self.embedding(x)  # (batch_size, target_seq_len, d_model)\n",
    "        x *= tf.math.sqrt(tf.cast(self.d_model, tf.float32))\n",
    "        x += self.pos_encoding[:, :seq_len, :]\n",
    "\n",
    "        x = self.dropout(x, training=training)\n",
    "\n",
    "        for i in range(self.num_layers):\n",
    "            x, block1, block2 = self.dec_layers[i](\n",
    "                x=x,\n",
    "                enc_output=enc_output,\n",
    "                training=training,\n",
    "                look_ahead_mask=look_ahead_mask,\n",
    "                padding_mask=padding_mask\n",
    "            )\n",
    "\n",
    "            attention_weights[f'decoder_layer{i+1}_block1'] = block1\n",
    "            attention_weights[f'decoder_layer{i+1}_block2'] = block2\n",
    "\n",
    "        # x.shape == (batch_size, target_seq_len, d_model)\n",
    "        return x, attention_weights"
   ]
  },
  {
   "cell_type": "code",
   "execution_count": 24,
   "id": "26fc9d8f",
   "metadata": {},
   "outputs": [],
   "source": [
    "# 패딩 마스크 생성: 입력 시퀀스에서 패딩 토큰(0)에 해당하는 위치를 마스킹\n",
    "def create_padding_mask(seq):\n",
    "    seq = tf.cast(tf.math.equal(seq, 0), tf.float32)\n",
    "    return seq[:, tf.newaxis, tf.newaxis, :]  # (배치 크기, 1, 1, 시퀀스 길이)\n",
    "\n",
    "# 미래 토큰 마스킹 (Look-ahead mask): 디코더가 미래의 토큰을 보지 못하게 막음\n",
    "def create_look_ahead_mask(size):\n",
    "    mask = 1 - tf.linalg.band_part(tf.ones((size, size)), -1, 0)\n",
    "    return mask  # (시퀀스 길이, 시퀀스 길이)\n",
    "\n",
    "# 전체 마스크 생성 함수: 인코더/디코더 패딩 마스크와 Look-ahead 마스크 결합\n",
    "def create_masks(inp, tar):\n",
    "    # 인코더 입력에 대한 패딩 마스크\n",
    "    enc_padding_mask = create_padding_mask(inp)\n",
    "\n",
    "    # 디코더 입력에 대한 look-ahead 마스크와 패딩 마스크 결합\n",
    "    look_ahead_mask = create_look_ahead_mask(tf.shape(tar)[1])\n",
    "    dec_target_padding_mask = create_padding_mask(tar)\n",
    "    combined_mask = tf.maximum(dec_target_padding_mask, look_ahead_mask)\n",
    "\n",
    "    # 디코더의 인코더 출력에 적용할 패딩 마스크\n",
    "    dec_padding_mask = create_padding_mask(inp)\n",
    "\n",
    "    return enc_padding_mask, combined_mask, dec_padding_mask\n"
   ]
  },
  {
   "cell_type": "code",
   "execution_count": 25,
   "id": "89d1bf73",
   "metadata": {},
   "outputs": [],
   "source": [
    "# 트랜스포머 모델\n",
    "class Transformer(tf.keras.Model):\n",
    "    def __init__(self, num_layers, d_model, num_heads, dff, input_vocab_size,\n",
    "               target_vocab_size, pe_input, pe_target, rate=0.1):\n",
    "        super(Transformer, self).__init__()\n",
    "\n",
    "        self.encoder = Encoder(num_layers, d_model, num_heads, dff,\n",
    "                             input_vocab_size, pe_input, rate)\n",
    "\n",
    "        self.decoder = Decoder(num_layers, d_model, num_heads, dff,\n",
    "                             target_vocab_size, pe_target, rate)\n",
    "\n",
    "        self.final_layer = tf.keras.layers.Dense(target_vocab_size)\n",
    "\n",
    "    def call(self, inputs, training=False):  # ✅ 클래스 안으로 들여쓰기!\n",
    "        # 리스트/튜플 구조일 때: enc_input, dec_input 나눔\n",
    "        enc_input, dec_input = inputs\n",
    "\n",
    "        # 마스크 생성\n",
    "        enc_padding_mask, look_ahead_mask, dec_padding_mask = create_masks(enc_input, dec_input)\n",
    "\n",
    "        # 인코더\n",
    "        enc_output = self.encoder(\n",
    "            x=enc_input,\n",
    "            training=training,\n",
    "            mask=enc_padding_mask\n",
    "        )\n",
    "\n",
    "        # 디코더\n",
    "        dec_output, attention_weights = self.decoder(\n",
    "            x=dec_input,\n",
    "            enc_output=enc_output,\n",
    "            training=training,\n",
    "            look_ahead_mask=look_ahead_mask,\n",
    "            padding_mask=dec_padding_mask\n",
    "        )\n",
    "\n",
    "        # 출력층\n",
    "        final_output = self.final_layer(dec_output)\n",
    "        return final_output"
   ]
  },
  {
   "cell_type": "code",
   "execution_count": 26,
   "id": "445540e8",
   "metadata": {},
   "outputs": [],
   "source": [
    "VOCAB_SIZE = tokenizer.get_vocab_size()"
   ]
  },
  {
   "cell_type": "code",
   "execution_count": 27,
   "id": "95792d22",
   "metadata": {},
   "outputs": [],
   "source": [
    "# 학습 파라미터 설정\n",
    "num_layers = 4\n",
    "d_model = 128\n",
    "dff = 512\n",
    "num_heads = 8\n",
    "dropout_rate = 0.1\n",
    "\n",
    "# 모델 인스턴스 생성\n",
    "model = Transformer(\n",
    "    num_layers=num_layers,\n",
    "    d_model=d_model,\n",
    "    num_heads=num_heads,\n",
    "    dff=dff,\n",
    "    input_vocab_size=VOCAB_SIZE,\n",
    "    target_vocab_size=VOCAB_SIZE,\n",
    "    pe_input=MAX_LENGTH,\n",
    "    pe_target=MAX_LENGTH,\n",
    "    rate=dropout_rate\n",
    ")"
   ]
  },
  {
   "cell_type": "code",
   "execution_count": 28,
   "id": "ebcd1e8e",
   "metadata": {},
   "outputs": [],
   "source": [
    "# 손실 함수 정의\n",
    "def loss_function(real, pred):\n",
    "    mask = tf.math.logical_not(tf.math.equal(real, 0))\n",
    "    loss_ = tf.keras.losses.sparse_categorical_crossentropy(\n",
    "        real, pred, from_logits=True)\n",
    "\n",
    "    mask = tf.cast(mask, dtype=loss_.dtype)\n",
    "    loss_ *= mask\n",
    "\n",
    "    return tf.reduce_sum(loss_) / tf.reduce_sum(mask)\n",
    "\n",
    "# 정확도 계산 함수 정의 \n",
    "def accuracy(real, pred):\n",
    "    accuracies = tf.equal(real, tf.cast(tf.argmax(pred, axis=2), dtype=tf.int32))\n",
    "\n",
    "    mask = tf.math.logical_not(tf.math.equal(real, 0))\n",
    "    accuracies = tf.math.logical_and(mask, accuracies)\n",
    "\n",
    "    accuracies = tf.cast(accuracies, dtype=tf.float32)\n",
    "    mask = tf.cast(mask, dtype=tf.float32)\n",
    "\n",
    "    return tf.reduce_sum(accuracies) / tf.reduce_sum(mask)"
   ]
  },
  {
   "cell_type": "code",
   "execution_count": 29,
   "id": "2cf85be8",
   "metadata": {},
   "outputs": [],
   "source": [
    "# 학습률 스케줄러 정의\n",
    "class CustomSchedule(tf.keras.optimizers.schedules.LearningRateSchedule):\n",
    "    def __init__(self, d_model, warmup_steps=4000):\n",
    "        super(CustomSchedule, self).__init__()\n",
    "\n",
    "        self.d_model = d_model\n",
    "        self.d_model = tf.cast(self.d_model, tf.float32)\n",
    "\n",
    "        self.warmup_steps = warmup_steps\n",
    "\n",
    "    def __call__(self, step):\n",
    "        # step을 float32로 명시적 변환 추가\n",
    "        step = tf.cast(step, tf.float32)\n",
    "\n",
    "        arg1 = tf.math.rsqrt(step)\n",
    "        arg2 = step * (self.warmup_steps ** -1.5)\n",
    "\n",
    "        return tf.math.rsqrt(self.d_model) * tf.math.minimum(arg1, arg2)\n",
    "\n",
    "# 학습률 설정 및 옵티마이저 정의\n",
    "learning_rate = CustomSchedule(d_model)\n",
    "optimizer = tf.keras.optimizers.Adam(\n",
    "    learning_rate, beta_1=0.9, beta_2=0.98, epsilon=1e-9)\n",
    "\n",
    "# 체크포인트 설정\n",
    "checkpoint_path = './checkpoints/transformer'\n",
    "ckpt = tf.train.Checkpoint(transformer=model, optimizer=optimizer)\n",
    "ckpt_manager = tf.train.CheckpointManager(ckpt, checkpoint_path, max_to_keep=5)"
   ]
  },
  {
   "cell_type": "code",
   "execution_count": 30,
   "id": "797efcb6",
   "metadata": {},
   "outputs": [],
   "source": [
    "# 학습 함수 정의\n",
    "@tf.function\n",
    "def train_step(inp, tar):\n",
    "    tar_inp = tar[:, :-1]\n",
    "    tar_real = tar[:, 1:]\n",
    "\n",
    "    with tf.GradientTape() as tape:\n",
    "        predictions = transformer(\n",
    "            {\n",
    "                'inputs': inp,\n",
    "                'dec_inputs': tar_inp\n",
    "            },\n",
    "            training=True\n",
    "        )\n",
    "\n",
    "        loss = loss_function(tar_real, predictions)\n",
    "\n",
    "    gradients = tape.gradient(loss, transformer.trainable_variables)\n",
    "    optimizer.apply_gradients(zip(gradients, transformer.trainable_variables))\n",
    "\n",
    "    train_loss(loss)\n",
    "    train_accuracy(accuracy_function(tar_real, predictions))"
   ]
  },
  {
   "cell_type": "code",
   "execution_count": 31,
   "id": "73e00ce8",
   "metadata": {},
   "outputs": [
    {
     "name": "stdout",
     "output_type": "stream",
     "text": [
      "에포크 1/50 시작...\n"
     ]
    },
    {
     "data": {
      "application/vnd.jupyter.widget-view+json": {
       "model_id": "f5f1771cb0514bb9b5f992f48f32c3a3",
       "version_major": 2,
       "version_minor": 0
      },
      "text/plain": [
       "  0%|          | 0/185 [00:00<?, ?it/s]"
      ]
     },
     "metadata": {},
     "output_type": "display_data"
    },
    {
     "name": "stdout",
     "output_type": "stream",
     "text": [
      "에포크 1 완료 - 손실: 8.2714, 정확도: 0.0794, 시간: 21.29초\n",
      "--------------------------------------------------\n",
      "에포크 2/50 시작...\n"
     ]
    },
    {
     "data": {
      "application/vnd.jupyter.widget-view+json": {
       "model_id": "a9b691d97a954857bab837643aa30011",
       "version_major": 2,
       "version_minor": 0
      },
      "text/plain": [
       "  0%|          | 0/185 [00:00<?, ?it/s]"
      ]
     },
     "metadata": {},
     "output_type": "display_data"
    },
    {
     "name": "stdout",
     "output_type": "stream",
     "text": [
      "에포크 2 완료 - 손실: 6.5577, 정확도: 0.1700, 시간: 7.48초\n",
      "--------------------------------------------------\n",
      "에포크 3/50 시작...\n"
     ]
    },
    {
     "data": {
      "application/vnd.jupyter.widget-view+json": {
       "model_id": "676158a10404457d97e0562d2961cb05",
       "version_major": 2,
       "version_minor": 0
      },
      "text/plain": [
       "  0%|          | 0/185 [00:00<?, ?it/s]"
      ]
     },
     "metadata": {},
     "output_type": "display_data"
    },
    {
     "name": "stdout",
     "output_type": "stream",
     "text": [
      "에포크 3 완료 - 손실: 5.1074, 정확도: 0.2350, 시간: 7.42초\n",
      "--------------------------------------------------\n",
      "에포크 4/50 시작...\n"
     ]
    },
    {
     "data": {
      "application/vnd.jupyter.widget-view+json": {
       "model_id": "97a4a418edd046138bd776443807fba6",
       "version_major": 2,
       "version_minor": 0
      },
      "text/plain": [
       "  0%|          | 0/185 [00:00<?, ?it/s]"
      ]
     },
     "metadata": {},
     "output_type": "display_data"
    },
    {
     "name": "stdout",
     "output_type": "stream",
     "text": [
      "에포크 4 완료 - 손실: 4.2503, 정확도: 0.3295, 시간: 7.48초\n",
      "--------------------------------------------------\n",
      "에포크 5/50 시작...\n"
     ]
    },
    {
     "data": {
      "application/vnd.jupyter.widget-view+json": {
       "model_id": "5a005ab80a6c4e4f9f9318871116b5e3",
       "version_major": 2,
       "version_minor": 0
      },
      "text/plain": [
       "  0%|          | 0/185 [00:00<?, ?it/s]"
      ]
     },
     "metadata": {},
     "output_type": "display_data"
    },
    {
     "name": "stdout",
     "output_type": "stream",
     "text": [
      "에포크 5 완료 - 손실: 3.7418, 정확도: 0.3781, 시간: 7.53초\n",
      "에포크 5에 체크포인트 저장: ./checkpoints/transformer/ckpt-1\n",
      "--------------------------------------------------\n",
      "에포크 6/50 시작...\n"
     ]
    },
    {
     "data": {
      "application/vnd.jupyter.widget-view+json": {
       "model_id": "9357fc7a98414b9ea8a6164199862d07",
       "version_major": 2,
       "version_minor": 0
      },
      "text/plain": [
       "  0%|          | 0/185 [00:00<?, ?it/s]"
      ]
     },
     "metadata": {},
     "output_type": "display_data"
    },
    {
     "name": "stdout",
     "output_type": "stream",
     "text": [
      "에포크 6 완료 - 손실: 3.4655, 정확도: 0.4034, 시간: 7.54초\n",
      "--------------------------------------------------\n",
      "에포크 7/50 시작...\n"
     ]
    },
    {
     "data": {
      "application/vnd.jupyter.widget-view+json": {
       "model_id": "2a16b0c7f3a94e8ebbfd8075037139ef",
       "version_major": 2,
       "version_minor": 0
      },
      "text/plain": [
       "  0%|          | 0/185 [00:00<?, ?it/s]"
      ]
     },
     "metadata": {},
     "output_type": "display_data"
    },
    {
     "name": "stdout",
     "output_type": "stream",
     "text": [
      "에포크 7 완료 - 손실: 3.2600, 정확도: 0.4236, 시간: 7.52초\n",
      "--------------------------------------------------\n",
      "에포크 8/50 시작...\n"
     ]
    },
    {
     "data": {
      "application/vnd.jupyter.widget-view+json": {
       "model_id": "12a8e383e8a9405fbca84b855d4cf9b9",
       "version_major": 2,
       "version_minor": 0
      },
      "text/plain": [
       "  0%|          | 0/185 [00:00<?, ?it/s]"
      ]
     },
     "metadata": {},
     "output_type": "display_data"
    },
    {
     "name": "stdout",
     "output_type": "stream",
     "text": [
      "에포크 8 완료 - 손실: 3.0878, 정확도: 0.4429, 시간: 7.54초\n",
      "--------------------------------------------------\n",
      "에포크 9/50 시작...\n"
     ]
    },
    {
     "data": {
      "application/vnd.jupyter.widget-view+json": {
       "model_id": "04fcac00224a4d3dae28590b83417307",
       "version_major": 2,
       "version_minor": 0
      },
      "text/plain": [
       "  0%|          | 0/185 [00:00<?, ?it/s]"
      ]
     },
     "metadata": {},
     "output_type": "display_data"
    },
    {
     "name": "stdout",
     "output_type": "stream",
     "text": [
      "에포크 9 완료 - 손실: 2.9220, 정확도: 0.4637, 시간: 7.57초\n",
      "--------------------------------------------------\n",
      "에포크 10/50 시작...\n"
     ]
    },
    {
     "data": {
      "application/vnd.jupyter.widget-view+json": {
       "model_id": "8bcb598620684cbb8fa61a2de39b52c0",
       "version_major": 2,
       "version_minor": 0
      },
      "text/plain": [
       "  0%|          | 0/185 [00:00<?, ?it/s]"
      ]
     },
     "metadata": {},
     "output_type": "display_data"
    },
    {
     "name": "stdout",
     "output_type": "stream",
     "text": [
      "에포크 10 완료 - 손실: 2.7624, 정확도: 0.4834, 시간: 7.54초\n",
      "에포크 10에 체크포인트 저장: ./checkpoints/transformer/ckpt-2\n",
      "--------------------------------------------------\n",
      "에포크 11/50 시작...\n"
     ]
    },
    {
     "data": {
      "application/vnd.jupyter.widget-view+json": {
       "model_id": "dac75daaf998413a9c0fb4aefeddf116",
       "version_major": 2,
       "version_minor": 0
      },
      "text/plain": [
       "  0%|          | 0/185 [00:00<?, ?it/s]"
      ]
     },
     "metadata": {},
     "output_type": "display_data"
    },
    {
     "name": "stdout",
     "output_type": "stream",
     "text": [
      "에포크 11 완료 - 손실: 2.6112, 정확도: 0.5006, 시간: 7.56초\n",
      "--------------------------------------------------\n",
      "에포크 12/50 시작...\n"
     ]
    },
    {
     "data": {
      "application/vnd.jupyter.widget-view+json": {
       "model_id": "2b1632e94b9b4037a77e94f956a9598c",
       "version_major": 2,
       "version_minor": 0
      },
      "text/plain": [
       "  0%|          | 0/185 [00:00<?, ?it/s]"
      ]
     },
     "metadata": {},
     "output_type": "display_data"
    },
    {
     "name": "stdout",
     "output_type": "stream",
     "text": [
      "에포크 12 완료 - 손실: 2.4600, 정확도: 0.5218, 시간: 7.62초\n",
      "--------------------------------------------------\n",
      "에포크 13/50 시작...\n"
     ]
    },
    {
     "data": {
      "application/vnd.jupyter.widget-view+json": {
       "model_id": "aa247d063e5542ba84f72346cdf8ec9b",
       "version_major": 2,
       "version_minor": 0
      },
      "text/plain": [
       "  0%|          | 0/185 [00:00<?, ?it/s]"
      ]
     },
     "metadata": {},
     "output_type": "display_data"
    },
    {
     "name": "stdout",
     "output_type": "stream",
     "text": [
      "에포크 13 완료 - 손실: 2.3090, 정확도: 0.5432, 시간: 7.74초\n",
      "--------------------------------------------------\n",
      "에포크 14/50 시작...\n"
     ]
    },
    {
     "data": {
      "application/vnd.jupyter.widget-view+json": {
       "model_id": "c83353fc37864a77b39d619fb7798e9e",
       "version_major": 2,
       "version_minor": 0
      },
      "text/plain": [
       "  0%|          | 0/185 [00:00<?, ?it/s]"
      ]
     },
     "metadata": {},
     "output_type": "display_data"
    },
    {
     "name": "stdout",
     "output_type": "stream",
     "text": [
      "에포크 14 완료 - 손실: 2.1583, 정확도: 0.5642, 시간: 7.72초\n",
      "--------------------------------------------------\n",
      "에포크 15/50 시작...\n"
     ]
    },
    {
     "data": {
      "application/vnd.jupyter.widget-view+json": {
       "model_id": "078793b671a24bfd842ce7eddbc9e47e",
       "version_major": 2,
       "version_minor": 0
      },
      "text/plain": [
       "  0%|          | 0/185 [00:00<?, ?it/s]"
      ]
     },
     "metadata": {},
     "output_type": "display_data"
    },
    {
     "name": "stdout",
     "output_type": "stream",
     "text": [
      "에포크 15 완료 - 손실: 2.0150, 정확도: 0.5844, 시간: 7.74초\n",
      "에포크 15에 체크포인트 저장: ./checkpoints/transformer/ckpt-3\n",
      "--------------------------------------------------\n",
      "에포크 16/50 시작...\n"
     ]
    },
    {
     "data": {
      "application/vnd.jupyter.widget-view+json": {
       "model_id": "5b209d4b9ec4402b9dab31db0cefbc35",
       "version_major": 2,
       "version_minor": 0
      },
      "text/plain": [
       "  0%|          | 0/185 [00:00<?, ?it/s]"
      ]
     },
     "metadata": {},
     "output_type": "display_data"
    },
    {
     "name": "stdout",
     "output_type": "stream",
     "text": [
      "에포크 16 완료 - 손실: 1.8790, 정확도: 0.6058, 시간: 7.69초\n",
      "--------------------------------------------------\n",
      "에포크 17/50 시작...\n"
     ]
    },
    {
     "data": {
      "application/vnd.jupyter.widget-view+json": {
       "model_id": "aa3a8aa71d744b0fbf3766d8bbc2b817",
       "version_major": 2,
       "version_minor": 0
      },
      "text/plain": [
       "  0%|          | 0/185 [00:00<?, ?it/s]"
      ]
     },
     "metadata": {},
     "output_type": "display_data"
    },
    {
     "name": "stdout",
     "output_type": "stream",
     "text": [
      "에포크 17 완료 - 손실: 1.7449, 정확도: 0.6267, 시간: 7.65초\n",
      "--------------------------------------------------\n",
      "에포크 18/50 시작...\n"
     ]
    },
    {
     "data": {
      "application/vnd.jupyter.widget-view+json": {
       "model_id": "f651176670dd422dad12ad69619b7f88",
       "version_major": 2,
       "version_minor": 0
      },
      "text/plain": [
       "  0%|          | 0/185 [00:00<?, ?it/s]"
      ]
     },
     "metadata": {},
     "output_type": "display_data"
    },
    {
     "name": "stdout",
     "output_type": "stream",
     "text": [
      "에포크 18 완료 - 손실: 1.6354, 정확도: 0.6413, 시간: 7.60초\n",
      "--------------------------------------------------\n",
      "에포크 19/50 시작...\n"
     ]
    },
    {
     "data": {
      "application/vnd.jupyter.widget-view+json": {
       "model_id": "a741b5fc64de42ac85c0e4fbabbb07a0",
       "version_major": 2,
       "version_minor": 0
      },
      "text/plain": [
       "  0%|          | 0/185 [00:00<?, ?it/s]"
      ]
     },
     "metadata": {},
     "output_type": "display_data"
    },
    {
     "name": "stdout",
     "output_type": "stream",
     "text": [
      "에포크 19 완료 - 손실: 1.5231, 정확도: 0.6602, 시간: 7.60초\n",
      "--------------------------------------------------\n",
      "에포크 20/50 시작...\n"
     ]
    },
    {
     "data": {
      "application/vnd.jupyter.widget-view+json": {
       "model_id": "82676c2ecdec4baf8b3fbe053e70d21c",
       "version_major": 2,
       "version_minor": 0
      },
      "text/plain": [
       "  0%|          | 0/185 [00:00<?, ?it/s]"
      ]
     },
     "metadata": {},
     "output_type": "display_data"
    },
    {
     "name": "stdout",
     "output_type": "stream",
     "text": [
      "에포크 20 완료 - 손실: 1.4328, 정확도: 0.6733, 시간: 7.64초\n",
      "에포크 20에 체크포인트 저장: ./checkpoints/transformer/ckpt-4\n",
      "--------------------------------------------------\n",
      "에포크 21/50 시작...\n"
     ]
    },
    {
     "data": {
      "application/vnd.jupyter.widget-view+json": {
       "model_id": "962d752adc8c4264a11c65efebee5996",
       "version_major": 2,
       "version_minor": 0
      },
      "text/plain": [
       "  0%|          | 0/185 [00:00<?, ?it/s]"
      ]
     },
     "metadata": {},
     "output_type": "display_data"
    },
    {
     "name": "stdout",
     "output_type": "stream",
     "text": [
      "에포크 21 완료 - 손실: 1.3544, 정확도: 0.6855, 시간: 7.71초\n",
      "--------------------------------------------------\n",
      "에포크 22/50 시작...\n"
     ]
    },
    {
     "data": {
      "application/vnd.jupyter.widget-view+json": {
       "model_id": "51209c6c800a419aa27a75854bd2878e",
       "version_major": 2,
       "version_minor": 0
      },
      "text/plain": [
       "  0%|          | 0/185 [00:00<?, ?it/s]"
      ]
     },
     "metadata": {},
     "output_type": "display_data"
    },
    {
     "name": "stdout",
     "output_type": "stream",
     "text": [
      "에포크 22 완료 - 손실: 1.2750, 정확도: 0.6985, 시간: 7.69초\n",
      "--------------------------------------------------\n",
      "에포크 23/50 시작...\n"
     ]
    },
    {
     "data": {
      "application/vnd.jupyter.widget-view+json": {
       "model_id": "a32156bb6dfb474faad4ea937fa36ca4",
       "version_major": 2,
       "version_minor": 0
      },
      "text/plain": [
       "  0%|          | 0/185 [00:00<?, ?it/s]"
      ]
     },
     "metadata": {},
     "output_type": "display_data"
    },
    {
     "name": "stdout",
     "output_type": "stream",
     "text": [
      "에포크 23 완료 - 손실: 1.1912, 정확도: 0.7134, 시간: 7.71초\n",
      "--------------------------------------------------\n",
      "에포크 24/50 시작...\n"
     ]
    },
    {
     "data": {
      "application/vnd.jupyter.widget-view+json": {
       "model_id": "9d5609cce242482da0f56b7423d92ef7",
       "version_major": 2,
       "version_minor": 0
      },
      "text/plain": [
       "  0%|          | 0/185 [00:00<?, ?it/s]"
      ]
     },
     "metadata": {},
     "output_type": "display_data"
    },
    {
     "name": "stdout",
     "output_type": "stream",
     "text": [
      "에포크 24 완료 - 손실: 1.0965, 정확도: 0.7317, 시간: 7.67초\n",
      "--------------------------------------------------\n",
      "에포크 25/50 시작...\n"
     ]
    },
    {
     "data": {
      "application/vnd.jupyter.widget-view+json": {
       "model_id": "9d7fcd3838dd4b3d97cb4a49fb354426",
       "version_major": 2,
       "version_minor": 0
      },
      "text/plain": [
       "  0%|          | 0/185 [00:00<?, ?it/s]"
      ]
     },
     "metadata": {},
     "output_type": "display_data"
    },
    {
     "name": "stdout",
     "output_type": "stream",
     "text": [
      "에포크 25 완료 - 손실: 1.0172, 정확도: 0.7460, 시간: 7.63초\n",
      "에포크 25에 체크포인트 저장: ./checkpoints/transformer/ckpt-5\n",
      "--------------------------------------------------\n",
      "에포크 26/50 시작...\n"
     ]
    },
    {
     "data": {
      "application/vnd.jupyter.widget-view+json": {
       "model_id": "b492fc90f3124ffaa7c2d9dd34b72c73",
       "version_major": 2,
       "version_minor": 0
      },
      "text/plain": [
       "  0%|          | 0/185 [00:00<?, ?it/s]"
      ]
     },
     "metadata": {},
     "output_type": "display_data"
    },
    {
     "name": "stdout",
     "output_type": "stream",
     "text": [
      "에포크 26 완료 - 손실: 0.9442, 정확도: 0.7628, 시간: 7.61초\n",
      "--------------------------------------------------\n",
      "에포크 27/50 시작...\n"
     ]
    },
    {
     "data": {
      "application/vnd.jupyter.widget-view+json": {
       "model_id": "bc756fe0c3a34d07988621ed3548687c",
       "version_major": 2,
       "version_minor": 0
      },
      "text/plain": [
       "  0%|          | 0/185 [00:00<?, ?it/s]"
      ]
     },
     "metadata": {},
     "output_type": "display_data"
    },
    {
     "name": "stdout",
     "output_type": "stream",
     "text": [
      "에포크 27 완료 - 손실: 0.8760, 정확도: 0.7768, 시간: 7.59초\n",
      "--------------------------------------------------\n",
      "에포크 28/50 시작...\n"
     ]
    },
    {
     "data": {
      "application/vnd.jupyter.widget-view+json": {
       "model_id": "6e96daf9458142259791eb9b3c29ab52",
       "version_major": 2,
       "version_minor": 0
      },
      "text/plain": [
       "  0%|          | 0/185 [00:00<?, ?it/s]"
      ]
     },
     "metadata": {},
     "output_type": "display_data"
    },
    {
     "name": "stdout",
     "output_type": "stream",
     "text": [
      "에포크 28 완료 - 손실: 0.8197, 정확도: 0.7873, 시간: 7.68초\n",
      "--------------------------------------------------\n",
      "에포크 29/50 시작...\n"
     ]
    },
    {
     "data": {
      "application/vnd.jupyter.widget-view+json": {
       "model_id": "66dcbbd7591e4e01bd08467c9a96daf6",
       "version_major": 2,
       "version_minor": 0
      },
      "text/plain": [
       "  0%|          | 0/185 [00:00<?, ?it/s]"
      ]
     },
     "metadata": {},
     "output_type": "display_data"
    },
    {
     "name": "stdout",
     "output_type": "stream",
     "text": [
      "에포크 29 완료 - 손실: 0.7703, 정확도: 0.7976, 시간: 7.64초\n",
      "--------------------------------------------------\n",
      "에포크 30/50 시작...\n"
     ]
    },
    {
     "data": {
      "application/vnd.jupyter.widget-view+json": {
       "model_id": "0e3dc0ae62c74ca0a072cee9a20729b9",
       "version_major": 2,
       "version_minor": 0
      },
      "text/plain": [
       "  0%|          | 0/185 [00:00<?, ?it/s]"
      ]
     },
     "metadata": {},
     "output_type": "display_data"
    },
    {
     "name": "stdout",
     "output_type": "stream",
     "text": [
      "에포크 30 완료 - 손실: 0.7252, 정확도: 0.8079, 시간: 7.66초\n",
      "에포크 30에 체크포인트 저장: ./checkpoints/transformer/ckpt-6\n",
      "--------------------------------------------------\n",
      "에포크 31/50 시작...\n"
     ]
    },
    {
     "data": {
      "application/vnd.jupyter.widget-view+json": {
       "model_id": "bf9e61848f2a489a91bc842cc1b95a3f",
       "version_major": 2,
       "version_minor": 0
      },
      "text/plain": [
       "  0%|          | 0/185 [00:00<?, ?it/s]"
      ]
     },
     "metadata": {},
     "output_type": "display_data"
    },
    {
     "name": "stdout",
     "output_type": "stream",
     "text": [
      "에포크 31 완료 - 손실: 0.6866, 정확도: 0.8168, 시간: 7.65초\n",
      "--------------------------------------------------\n",
      "에포크 32/50 시작...\n"
     ]
    },
    {
     "data": {
      "application/vnd.jupyter.widget-view+json": {
       "model_id": "b6a3e17518354615a6cc2acdee264a75",
       "version_major": 2,
       "version_minor": 0
      },
      "text/plain": [
       "  0%|          | 0/185 [00:00<?, ?it/s]"
      ]
     },
     "metadata": {},
     "output_type": "display_data"
    },
    {
     "name": "stdout",
     "output_type": "stream",
     "text": [
      "에포크 32 완료 - 손실: 0.6450, 정확도: 0.8261, 시간: 7.66초\n",
      "--------------------------------------------------\n",
      "에포크 33/50 시작...\n"
     ]
    },
    {
     "data": {
      "application/vnd.jupyter.widget-view+json": {
       "model_id": "c0d1957386384e3ba023ce889a23f419",
       "version_major": 2,
       "version_minor": 0
      },
      "text/plain": [
       "  0%|          | 0/185 [00:00<?, ?it/s]"
      ]
     },
     "metadata": {},
     "output_type": "display_data"
    },
    {
     "name": "stdout",
     "output_type": "stream",
     "text": [
      "에포크 33 완료 - 손실: 0.6106, 정확도: 0.8335, 시간: 7.63초\n",
      "--------------------------------------------------\n",
      "에포크 34/50 시작...\n"
     ]
    },
    {
     "data": {
      "application/vnd.jupyter.widget-view+json": {
       "model_id": "14f09bfd78554f1e892fbab07839efad",
       "version_major": 2,
       "version_minor": 0
      },
      "text/plain": [
       "  0%|          | 0/185 [00:00<?, ?it/s]"
      ]
     },
     "metadata": {},
     "output_type": "display_data"
    },
    {
     "name": "stdout",
     "output_type": "stream",
     "text": [
      "에포크 34 완료 - 손실: 0.5787, 정확도: 0.8413, 시간: 7.67초\n",
      "--------------------------------------------------\n",
      "에포크 35/50 시작...\n"
     ]
    },
    {
     "data": {
      "application/vnd.jupyter.widget-view+json": {
       "model_id": "a01e2fb08d5f40bab3c034d103cd1c1a",
       "version_major": 2,
       "version_minor": 0
      },
      "text/plain": [
       "  0%|          | 0/185 [00:00<?, ?it/s]"
      ]
     },
     "metadata": {},
     "output_type": "display_data"
    },
    {
     "name": "stdout",
     "output_type": "stream",
     "text": [
      "에포크 35 완료 - 손실: 0.5498, 정확도: 0.8476, 시간: 7.57초\n",
      "에포크 35에 체크포인트 저장: ./checkpoints/transformer/ckpt-7\n",
      "--------------------------------------------------\n",
      "에포크 36/50 시작...\n"
     ]
    },
    {
     "data": {
      "application/vnd.jupyter.widget-view+json": {
       "model_id": "22e12ff495114f0ebcabb5819ac375ee",
       "version_major": 2,
       "version_minor": 0
      },
      "text/plain": [
       "  0%|          | 0/185 [00:00<?, ?it/s]"
      ]
     },
     "metadata": {},
     "output_type": "display_data"
    },
    {
     "name": "stdout",
     "output_type": "stream",
     "text": [
      "에포크 36 완료 - 손실: 0.5262, 정확도: 0.8542, 시간: 7.58초\n",
      "--------------------------------------------------\n",
      "에포크 37/50 시작...\n"
     ]
    },
    {
     "data": {
      "application/vnd.jupyter.widget-view+json": {
       "model_id": "22c4c968888347d2918d4815b8538524",
       "version_major": 2,
       "version_minor": 0
      },
      "text/plain": [
       "  0%|          | 0/185 [00:00<?, ?it/s]"
      ]
     },
     "metadata": {},
     "output_type": "display_data"
    },
    {
     "name": "stdout",
     "output_type": "stream",
     "text": [
      "에포크 37 완료 - 손실: 0.5010, 정확도: 0.8602, 시간: 7.61초\n",
      "--------------------------------------------------\n",
      "에포크 38/50 시작...\n"
     ]
    },
    {
     "data": {
      "application/vnd.jupyter.widget-view+json": {
       "model_id": "887070b7dab04b3bb6f992530e46d5d1",
       "version_major": 2,
       "version_minor": 0
      },
      "text/plain": [
       "  0%|          | 0/185 [00:00<?, ?it/s]"
      ]
     },
     "metadata": {},
     "output_type": "display_data"
    },
    {
     "name": "stdout",
     "output_type": "stream",
     "text": [
      "에포크 38 완료 - 손실: 0.4796, 정확도: 0.8651, 시간: 7.79초\n",
      "--------------------------------------------------\n",
      "에포크 39/50 시작...\n"
     ]
    },
    {
     "data": {
      "application/vnd.jupyter.widget-view+json": {
       "model_id": "24961ac949be4cbeb4229e97999328b6",
       "version_major": 2,
       "version_minor": 0
      },
      "text/plain": [
       "  0%|          | 0/185 [00:00<?, ?it/s]"
      ]
     },
     "metadata": {},
     "output_type": "display_data"
    },
    {
     "name": "stdout",
     "output_type": "stream",
     "text": [
      "에포크 39 완료 - 손실: 0.4617, 정확도: 0.8691, 시간: 7.60초\n",
      "--------------------------------------------------\n",
      "에포크 40/50 시작...\n"
     ]
    },
    {
     "data": {
      "application/vnd.jupyter.widget-view+json": {
       "model_id": "8983424570994f8eb26cf2b730b3aba2",
       "version_major": 2,
       "version_minor": 0
      },
      "text/plain": [
       "  0%|          | 0/185 [00:00<?, ?it/s]"
      ]
     },
     "metadata": {},
     "output_type": "display_data"
    },
    {
     "name": "stdout",
     "output_type": "stream",
     "text": [
      "에포크 40 완료 - 손실: 0.4388, 정확도: 0.8755, 시간: 7.57초\n",
      "에포크 40에 체크포인트 저장: ./checkpoints/transformer/ckpt-8\n",
      "--------------------------------------------------\n",
      "에포크 41/50 시작...\n"
     ]
    },
    {
     "data": {
      "application/vnd.jupyter.widget-view+json": {
       "model_id": "ffdcf5dbb7ed43c1812f60ff94acd589",
       "version_major": 2,
       "version_minor": 0
      },
      "text/plain": [
       "  0%|          | 0/185 [00:00<?, ?it/s]"
      ]
     },
     "metadata": {},
     "output_type": "display_data"
    },
    {
     "name": "stdout",
     "output_type": "stream",
     "text": [
      "에포크 41 완료 - 손실: 0.4233, 정확도: 0.8793, 시간: 7.60초\n",
      "--------------------------------------------------\n",
      "에포크 42/50 시작...\n"
     ]
    },
    {
     "data": {
      "application/vnd.jupyter.widget-view+json": {
       "model_id": "ece47acfcda94669b4e8645e95270479",
       "version_major": 2,
       "version_minor": 0
      },
      "text/plain": [
       "  0%|          | 0/185 [00:00<?, ?it/s]"
      ]
     },
     "metadata": {},
     "output_type": "display_data"
    },
    {
     "name": "stdout",
     "output_type": "stream",
     "text": [
      "에포크 42 완료 - 손실: 0.3977, 정확도: 0.8857, 시간: 7.56초\n",
      "--------------------------------------------------\n",
      "에포크 43/50 시작...\n"
     ]
    },
    {
     "data": {
      "application/vnd.jupyter.widget-view+json": {
       "model_id": "7b63cd22c870416b91f0e878a25dd515",
       "version_major": 2,
       "version_minor": 0
      },
      "text/plain": [
       "  0%|          | 0/185 [00:00<?, ?it/s]"
      ]
     },
     "metadata": {},
     "output_type": "display_data"
    },
    {
     "name": "stdout",
     "output_type": "stream",
     "text": [
      "에포크 43 완료 - 손실: 0.3899, 정확도: 0.8880, 시간: 7.56초\n",
      "--------------------------------------------------\n",
      "에포크 44/50 시작...\n"
     ]
    },
    {
     "data": {
      "application/vnd.jupyter.widget-view+json": {
       "model_id": "e392dfefd222473c8753d031c90d2b63",
       "version_major": 2,
       "version_minor": 0
      },
      "text/plain": [
       "  0%|          | 0/185 [00:00<?, ?it/s]"
      ]
     },
     "metadata": {},
     "output_type": "display_data"
    },
    {
     "name": "stdout",
     "output_type": "stream",
     "text": [
      "에포크 44 완료 - 손실: 0.3792, 정확도: 0.8905, 시간: 7.61초\n",
      "--------------------------------------------------\n",
      "에포크 45/50 시작...\n"
     ]
    },
    {
     "data": {
      "application/vnd.jupyter.widget-view+json": {
       "model_id": "57d3e33aedb146b5a0590de1c5b720db",
       "version_major": 2,
       "version_minor": 0
      },
      "text/plain": [
       "  0%|          | 0/185 [00:00<?, ?it/s]"
      ]
     },
     "metadata": {},
     "output_type": "display_data"
    },
    {
     "name": "stdout",
     "output_type": "stream",
     "text": [
      "에포크 45 완료 - 손실: 0.3588, 정확도: 0.8956, 시간: 7.57초\n",
      "에포크 45에 체크포인트 저장: ./checkpoints/transformer/ckpt-9\n",
      "--------------------------------------------------\n",
      "에포크 46/50 시작...\n"
     ]
    },
    {
     "data": {
      "application/vnd.jupyter.widget-view+json": {
       "model_id": "d397926bc7554095a9b36586b38b75f9",
       "version_major": 2,
       "version_minor": 0
      },
      "text/plain": [
       "  0%|          | 0/185 [00:00<?, ?it/s]"
      ]
     },
     "metadata": {},
     "output_type": "display_data"
    },
    {
     "name": "stdout",
     "output_type": "stream",
     "text": [
      "에포크 46 완료 - 손실: 0.3497, 정확도: 0.8981, 시간: 7.55초\n",
      "--------------------------------------------------\n",
      "에포크 47/50 시작...\n"
     ]
    },
    {
     "data": {
      "application/vnd.jupyter.widget-view+json": {
       "model_id": "44a43b480e1449a68fd6869a06b886f3",
       "version_major": 2,
       "version_minor": 0
      },
      "text/plain": [
       "  0%|          | 0/185 [00:00<?, ?it/s]"
      ]
     },
     "metadata": {},
     "output_type": "display_data"
    },
    {
     "name": "stdout",
     "output_type": "stream",
     "text": [
      "에포크 47 완료 - 손실: 0.3370, 정확도: 0.9009, 시간: 7.56초\n",
      "--------------------------------------------------\n",
      "에포크 48/50 시작...\n"
     ]
    },
    {
     "data": {
      "application/vnd.jupyter.widget-view+json": {
       "model_id": "46b07fd187684bfaac9426f054074325",
       "version_major": 2,
       "version_minor": 0
      },
      "text/plain": [
       "  0%|          | 0/185 [00:00<?, ?it/s]"
      ]
     },
     "metadata": {},
     "output_type": "display_data"
    },
    {
     "name": "stdout",
     "output_type": "stream",
     "text": [
      "에포크 48 완료 - 손실: 0.3232, 정확도: 0.9054, 시간: 7.59초\n",
      "--------------------------------------------------\n",
      "에포크 49/50 시작...\n"
     ]
    },
    {
     "data": {
      "application/vnd.jupyter.widget-view+json": {
       "model_id": "084411c2e0a24870b9a06d361a0be24b",
       "version_major": 2,
       "version_minor": 0
      },
      "text/plain": [
       "  0%|          | 0/185 [00:00<?, ?it/s]"
      ]
     },
     "metadata": {},
     "output_type": "display_data"
    },
    {
     "name": "stdout",
     "output_type": "stream",
     "text": [
      "에포크 49 완료 - 손실: 0.3185, 정확도: 0.9075, 시간: 7.59초\n",
      "--------------------------------------------------\n",
      "에포크 50/50 시작...\n"
     ]
    },
    {
     "data": {
      "application/vnd.jupyter.widget-view+json": {
       "model_id": "548ba1bcfd9c4524bc0dfd1b3be53013",
       "version_major": 2,
       "version_minor": 0
      },
      "text/plain": [
       "  0%|          | 0/185 [00:00<?, ?it/s]"
      ]
     },
     "metadata": {},
     "output_type": "display_data"
    },
    {
     "name": "stdout",
     "output_type": "stream",
     "text": [
      "에포크 50 완료 - 손실: 0.3099, 정확도: 0.9092, 시간: 7.58초\n",
      "에포크 50에 체크포인트 저장: ./checkpoints/transformer/ckpt-10\n",
      "--------------------------------------------------\n"
     ]
    }
   ],
   "source": [
    "import time\n",
    "from tqdm.notebook import tqdm\n",
    "import tensorflow as tf\n",
    "\n",
    "# ⬇️ 메트릭 초기화\n",
    "train_loss = tf.keras.metrics.Mean(name='train_loss')\n",
    "train_accuracy = tf.keras.metrics.Mean(name='train_accuracy')\n",
    "\n",
    "# ✅ train_step 함수 정의\n",
    "@tf.function\n",
    "def train_step(enc_inp, dec_inp, target):\n",
    "    with tf.GradientTape() as tape:\n",
    "        # 모델 forward pass\n",
    "        predictions = model([enc_inp, dec_inp], training=True)\n",
    "        # 손실 계산\n",
    "        loss = loss_function(target, predictions)\n",
    "\n",
    "    # 역전파\n",
    "    gradients = tape.gradient(loss, model.trainable_variables)\n",
    "    optimizer.apply_gradients(zip(gradients, model.trainable_variables))\n",
    "\n",
    "    # 메트릭 업데이트\n",
    "    train_loss.update_state(loss)\n",
    "    train_accuracy.update_state(accuracy(target, predictions))\n",
    "\n",
    "# ⬇️ 학습 시작\n",
    "EPOCHS = 50\n",
    "\n",
    "for epoch in range(EPOCHS):\n",
    "    start = time.time()\n",
    "\n",
    "    train_loss.reset_state()\n",
    "    train_accuracy.reset_state()\n",
    "\n",
    "    print(f\"에포크 {epoch + 1}/{EPOCHS} 시작...\")\n",
    "\n",
    "    for (batch, (inp, tar)) in tqdm(enumerate(dataset), total=len(dataset)):\n",
    "        # ⛳️ tar는 decoder_target이므로 그냥 넘기면 됩니다\n",
    "        train_step(inp['encoder_input'], inp['decoder_input'], tar)\n",
    "\n",
    "    epoch_time = time.time() - start\n",
    "    print(f'에포크 {epoch + 1} 완료 - 손실: {train_loss.result():.4f}, 정확도: {train_accuracy.result():.4f}, 시간: {epoch_time:.2f}초')\n",
    "\n",
    "    if (epoch + 1) % 5 == 0:\n",
    "        ckpt_save_path = ckpt_manager.save()\n",
    "        print(f'에포크 {epoch + 1}에 체크포인트 저장: {ckpt_save_path}')\n",
    "\n",
    "    print(\"-\" * 50)"
   ]
  },
  {
   "cell_type": "markdown",
   "id": "b8029152",
   "metadata": {},
   "source": [
    "## Step 5. 모델 평가하기"
   ]
  },
  {
   "cell_type": "code",
   "execution_count": 32,
   "id": "4e7a57c6",
   "metadata": {},
   "outputs": [],
   "source": [
    "def evaluate(sentence):\n",
    "    sentence = preprocess_sentence(sentence)\n",
    "    tokenized = tokenizer.encode(\" \".join(tokenize_with_mecab(sentence))).ids\n",
    "    encoder_input = [START_TOKEN_ID] + tokenized + [END_TOKEN_ID]\n",
    "    encoder_input = tf.convert_to_tensor([encoder_input], dtype=tf.int32)\n",
    "    \n",
    "    decoder_input = tf.convert_to_tensor([[START_TOKEN_ID]], dtype=tf.int32)\n",
    "    \n",
    "    for _ in range(MAX_LENGTH):\n",
    "        # 모델 입력을 튜플로 전달\n",
    "        predictions = model([encoder_input, decoder_input], training=False)\n",
    "        predicted_id = tf.cast(tf.argmax(predictions[:, -1:, :], axis=-1), dtype=tf.int32)  # int32로 명시적 캐스팅\n",
    "        \n",
    "        if predicted_id.numpy()[0][0] == END_TOKEN_ID:\n",
    "            break\n",
    "            \n",
    "        decoder_input = tf.concat([decoder_input, predicted_id], axis=-1)\n",
    "    \n",
    "    output_ids = decoder_input.numpy()[0].tolist()\n",
    "    output_ids = [i for i in output_ids if i != START_TOKEN_ID and i != END_TOKEN_ID]\n",
    "    \n",
    "    return tokenizer.decode(output_ids)"
   ]
  },
  {
   "cell_type": "code",
   "execution_count": 33,
   "id": "9578a27e",
   "metadata": {},
   "outputs": [],
   "source": [
    "START_TOKEN_ID = tokenizer.token_to_id(\"[CLS]\")\n",
    "END_TOKEN_ID = tokenizer.token_to_id(\"[SEP]\")"
   ]
  },
  {
   "cell_type": "code",
   "execution_count": 34,
   "id": "3b3c732f",
   "metadata": {},
   "outputs": [
    {
     "name": "stdout",
     "output_type": "stream",
     "text": [
      "START_TOKEN_ID: 2 타입: <class 'int'>\n",
      "END_TOKEN_ID: 3 타입: <class 'int'>\n"
     ]
    }
   ],
   "source": [
    "# 토큰 ID 확인\n",
    "print(\"START_TOKEN_ID:\", START_TOKEN_ID, \"타입:\", type(START_TOKEN_ID))\n",
    "print(\"END_TOKEN_ID:\", END_TOKEN_ID, \"타입:\", type(END_TOKEN_ID))"
   ]
  },
  {
   "cell_type": "code",
   "execution_count": 35,
   "id": "a4fbf733",
   "metadata": {},
   "outputs": [],
   "source": [
    "def chat_response(sentence):\n",
    "    result = evaluate(sentence)\n",
    "    return result.strip() "
   ]
  },
  {
   "cell_type": "code",
   "execution_count": 36,
   "id": "2150c467",
   "metadata": {},
   "outputs": [],
   "source": [
    "def chat_response(sentence):\n",
    "    result = evaluate(sentence)\n",
    "    # 과도한 공백 제거 (연속된 공백을 하나로 변경)\n",
    "    result = re.sub(r'\\s+', ' ', result.strip())\n",
    "    return result"
   ]
  },
  {
   "cell_type": "code",
   "execution_count": 37,
   "id": "b6b47528",
   "metadata": {},
   "outputs": [
    {
     "name": "stdout",
     "output_type": "stream",
     "text": [
      "질문: 내일 내 운세 알려줄래?\n",
      "응답: 다른 곳 에 쓰 려고 운 을 아껴 뒀 나 봐요.\n",
      "\n",
      "질문: 권정원은 옆사람과 친해질 수 있을까요?\n",
      "응답: 건들 지 않 는 선 에서 물 어 보 세요.\n",
      "\n",
      "질문: 띄어쓰기를 왜 그렇게 하세요?\n",
      "응답: 쓰 면서 정리 가 되 기 도 하 죠.\n",
      "\n",
      "질문: 난 이제 지쳤어요 그래서 더이상 못하겠어요 알겠어요?\n",
      "응답: 가치관 이 중요 한 거 같 아요.\n",
      "\n",
      "질문: 이따 뭐먹지?\n",
      "응답: 잘 해결 될 거 예요.\n",
      "\n"
     ]
    }
   ],
   "source": [
    "# 몇 가지 질문에 대한 응답 테스트\n",
    "test_questions = [\n",
    "    '내일 내 운세 알려줄래?',\n",
    "    '권정원은 옆사람과 친해질 수 있을까요?',\n",
    "    '띄어쓰기를 왜 그렇게 하세요?',\n",
    "    '난 이제 지쳤어요 그래서 더이상 못하겠어요 알겠어요?'\n",
    "    \n",
    "]\n",
    "\n",
    "for question in test_questions:\n",
    "    print('질문:', question)\n",
    "    print('응답:', chat_response(question))\n",
    "    print()\n"
   ]
  },
  {
   "cell_type": "markdown",
   "id": "fcf2fbf7",
   "metadata": {},
   "source": [
    "### 띄어쓰기 패턴이 특이한 것은 형태소 분석기(mecab)와 토크나이저의 특성 때문입니다.<br>\n",
    "### 한국어 문장을 형태소 단위로 분리하면서, 조사나 어미가 독립적인 토큰으로 분리되기 때문에 이런 현상이 발생합니다. 예를 들어 \"이유가\"는 \"이유\" + \"가\"로 분리되어 토큰화되고, 디코딩 시 다시 결합할 때 공백이 생깁니다."
   ]
  },
  {
   "cell_type": "markdown",
   "id": "d085dc8b",
   "metadata": {},
   "source": [
    "회고: 토크나이저 다른 거 썼더니 이렇게 되었다. 아쉽다. transformer 이론도 어렵지만 실습도 어렵다🥲🥲"
   ]
  },
  {
   "cell_type": "markdown",
   "id": "2f9d11c7",
   "metadata": {},
   "source": [
    "## 7. 모델 개선 및 확장 방안\n",
    "\n",
    "현재 구현한 챗봇 모델을 더 개선하기 위한 방안들:\n",
    "\n",
    "1. **데이터 증강**: 기존 데이터셋을 활용하여 백트랜슬레이션, 동의어 치환 등을 통해 데이터를 증강\n",
    "2. **사전 학습 모델 활용**: KoBERT, KoGPT 등 한국어 사전 학습 모델을 활용하여 전이학습 적용\n",
    "3. **더 큰 모델과 더 긴 학습**: 모델 크기를 키우고 더 오래 학습하여 성능 향상\n",
    "4. **문맥 유지**: 이전 대화 기억하여 문맥을 유지하는 기능 추가\n",
    "5. **다양한 응답 생성**: 빔 서치, Top-k/Top-p 샘플링 등을 통해 더 다양한 응답 생성"
   ]
  }
 ],
 "metadata": {
  "kernelspec": {
   "display_name": "Python 3 (ipykernel)",
   "language": "python",
   "name": "python3"
  },
  "language_info": {
   "codemirror_mode": {
    "name": "ipython",
    "version": 3
   },
   "file_extension": ".py",
   "mimetype": "text/x-python",
   "name": "python",
   "nbconvert_exporter": "python",
   "pygments_lexer": "ipython3",
   "version": "3.9.7"
  }
 },
 "nbformat": 4,
 "nbformat_minor": 5
}

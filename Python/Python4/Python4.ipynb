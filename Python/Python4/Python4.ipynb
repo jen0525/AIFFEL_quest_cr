{
  "nbformat": 4,
  "nbformat_minor": 0,
  "metadata": {
    "colab": {
      "provenance": [],
      "include_colab_link": true
    },
    "kernelspec": {
      "name": "python3",
      "display_name": "Python 3"
    },
    "language_info": {
      "name": "python"
    }
  },
  "cells": [
    {
      "cell_type": "markdown",
      "metadata": {
        "id": "view-in-github",
        "colab_type": "text"
      },
      "source": [
        "<a href=\"https://colab.research.google.com/github/jen0525/AIFFEL_quest_cr/blob/master/Python/Python4/Python4.ipynb\" target=\"_parent\"><img src=\"https://colab.research.google.com/assets/colab-badge.svg\" alt=\"Open In Colab\"/></a>"
      ]
    },
    {
      "cell_type": "code",
      "execution_count": null,
      "metadata": {
        "colab": {
          "base_uri": "https://localhost:8080/"
        },
        "id": "W8X4mGjk0D1d",
        "outputId": "8b79e606-a5e4-4820-8ba5-0ce34c33a70b"
      },
      "outputs": [
        {
          "output_type": "stream",
          "name": "stdout",
          "text": [
            "지금부터 계산을 시작한다.\n",
            "정수 적어보소6\n",
            "+,-,/,*,** 중에 원하는 계산부호 적어보소:/\n",
            "두 번째 정수 적어보소0\n",
            "0으로 나눌순 없제~ 다시!.\n",
            "지금부터 계산을 시작한다.\n",
            "정수 적어보소3\n",
            "+,-,/,*,** 중에 원하는 계산부호 적어보소:**\n",
            "두 번째 정수 적어보소2\n",
            "이거맞지?? 9\n",
            "계속 문제 내볼래?(yes, 그래, 좋아, y 외에는 기각이다.)no\n",
            "계산 끝! 잘가고~~.\n"
          ]
        }
      ],
      "source": [
        "# 제곱계산을 위한 math 모듈을 먼저 가지고 옵니다.\n",
        "import math\n",
        "\n",
        "# 첫 번째 정수, 연산자, 두 번째 정수를 차례대로 입력받습니다.\n",
        "while True:\n",
        "  print('지금부터 계산을 시작한다.')\n",
        "  try:\n",
        "    su1 = int(input(\"정수 적어보소\"))\n",
        "  except ValueError: # 정수가 아닌 경우  ValueError를 처리하여 오류 메시지를 출력\n",
        "    print(\"정수 뭔지 모르냐.\")\n",
        "    continue\n",
        "\n",
        "  cal = input(\"+,-,/,*,** 중에 원하는 계산부호 적어보소:\")\n",
        "  if cal not in ['+','-','*','/','**']:\n",
        "    print(\"없는거 넣지 말고야.\")\n",
        "    print(\"너 수학 안배웟냐아~~\")\n",
        "    continue\n",
        "\n",
        "  try:\n",
        "    su2 = int(input(\"두 번째 정수 적어보소\"))\n",
        "  except ValueError: # 정수가 아닌 경우  ValueError를 처리하여 오류 메시지를 출력\n",
        "    print(\"정수야 정수라고야!!.\")\n",
        "    print(\"또 틀리믄 너는 14급 15급 공무원 해야돼\")\n",
        "    continue\n",
        "\n",
        "  try:\n",
        "    if cal == '+':\n",
        "      result = su1 + su2\n",
        "    elif cal =='-':\n",
        "      result = su1 - su2\n",
        "    elif cal =='*':\n",
        "      result = su1 * su2\n",
        "    elif cal =='/':\n",
        "      result = su1 / su2\n",
        "    elif cal == '**':\n",
        "      result = su1 ** su2\n",
        "    print(f\"이거맞지?? {result}\")\n",
        "  except ZeroDivisionError:\n",
        "    print(\"0으로 나눌순 없제~ 다시!.\") # 숫자를 0으로 나누려고 할때 ZeroDivision Error를 통한 오류처리\n",
        "    continue\n",
        "\n",
        "#계산을 계속 이어갈지 입력받으며 continue or break로 처리\n",
        "  continue_ok = input(\"계속 문제 내볼래?(yes, 그래, 좋아, y 외에는 기각이다.)\")\n",
        "  if continue_ok == \"yes\":\n",
        "    continue\n",
        "  elif continue_ok ==\"그래\":\n",
        "    continue\n",
        "  elif continue_ok ==\"좋아\":\n",
        "    continue\n",
        "  elif continue_ok ==\"y\":\n",
        "    continue\n",
        "\n",
        "  else:\n",
        "    print(\"계산 끝! 잘가고~~.\")\n",
        "    break\n",
        "\n",
        "     #오류가 많이 발생했던 부분: indent오류"
      ]
    },
    {
      "cell_type": "markdown",
      "source": [
        "허재은 회고: 처음에 복잡해서 어떻게 시작할지 헤맸는데 순서대로 차례차례하니 해결된거 같다. indent오류가 자꾸 발생해서 주의해서 해야겠다."
      ],
      "metadata": {
        "id": "kTDM_Qox5EZ2"
      }
    }
  ]
}
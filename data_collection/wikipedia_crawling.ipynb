{
  "nbformat": 4,
  "nbformat_minor": 0,
  "metadata": {
    "colab": {
      "provenance": [],
      "authorship_tag": "ABX9TyOipBHZoi4OyskmkI7C1FTh",
      "include_colab_link": true
    },
    "kernelspec": {
      "name": "python3",
      "display_name": "Python 3"
    },
    "language_info": {
      "name": "python"
    }
  },
  "cells": [
    {
      "cell_type": "markdown",
      "metadata": {
        "id": "view-in-github",
        "colab_type": "text"
      },
      "source": [
        "<a href=\"https://colab.research.google.com/github/jen0525/AIFFEL_quest_cr/blob/master/data_collection/wikipedia_crawling.ipynb\" target=\"_parent\"><img src=\"https://colab.research.google.com/assets/colab-badge.svg\" alt=\"Open In Colab\"/></a>"
      ]
    },
    {
      "cell_type": "markdown",
      "source": [
        "# 1. Shakespeare 관련 정보 크롤링 (Wikipedia)"
      ],
      "metadata": {
        "id": "ZhVABvlAFcLH"
      }
    },
    {
      "cell_type": "code",
      "execution_count": null,
      "metadata": {
        "id": "8zvHLa_uFY9H"
      },
      "outputs": [],
      "source": [
        "import requests\n",
        "from bs4 import BeautifulSoup\n",
        "import csv\n",
        "from google.colab import drive\n",
        "import os\n",
        "\n",
        "# Step 1: 수집할 웹 페이지 URL 설정 (Shakespeare 관련 정보가 있는 위키피디아 페이지)\n",
        "base_url = 'https://en.wikipedia.org'\n",
        "start_url = 'https://en.wikipedia.org/wiki/William_Shakespeare'\n",
        "\n",
        "# Step 2: 웹 페이지 요청 및 HTML 파싱\n",
        "response = requests.get(start_url)\n",
        "soup = BeautifulSoup(response.text, 'html.parser')\n",
        "\n",
        "# Step 3: 페이지에서 내부 링크 수집 (Shakespeare 관련 추가 정보 링크)\n",
        "links = []\n",
        "for a_tag in soup.find_all('a', href=True):\n",
        "    href = a_tag['href']\n",
        "    if href.startswith('/wiki/') and not ':' in href and 'Main_Page' not in href:\n",
        "        full_url = base_url + href\n",
        "        if full_url not in links:\n",
        "            links.append(full_url)\n",
        "\n",
        "# Step 4: 각 링크에서 데이터 크롤링 함수 정의\n",
        "def scrape_data_from_link(url):\n",
        "    try:\n",
        "        response = requests.get(url)\n",
        "        soup = BeautifulSoup(response.text, 'html.parser')\n",
        "\n",
        "        # 페이지 제목 추출\n",
        "        title = soup.title.get_text() if soup.title else 'No Title'\n",
        "\n",
        "        # 본문 내용 추출 (예: <p> 태그 안의 내용)\n",
        "        paragraphs = soup.find_all('p')\n",
        "        content = \"\\n\".join([p.get_text() for p in paragraphs])\n",
        "\n",
        "        return {'url': url, 'title': title, 'content': content}\n",
        "    except Exception as e:\n",
        "        print(f\"Error scraping {url}: {e}\")\n",
        "        return {'url': url, 'title': 'Error', 'content': 'Error occurred'}\n",
        "\n",
        "# Step 5: Google Drive 마운트하여 파일 저장\n",
        "drive.mount('/content/drive')\n",
        "drive_path = '/content/drive/MyDrive/shakespeare_data'\n",
        "if not os.path.exists(drive_path):\n",
        "    os.makedirs(drive_path)\n",
        "\n",
        "# Step 6: 모든 링크에서 데이터 크롤링 및 Chunking으로 저장\n",
        "chunk_size = 100  # 파일당 100개의 데이터로 나눠 저장\n",
        "chunk_number = 1\n",
        "\n",
        "for i in range(0, len(links), chunk_size):\n",
        "    chunk_links = links[i:i + chunk_size]\n",
        "    scraped_data = [scrape_data_from_link(link) for link in chunk_links]\n",
        "\n",
        "    # Step 7: 크롤링된 데이터를 Google Drive에 CSV로 저장 (Chunk별로 저장)\n",
        "    csv_file_name = f'{drive_path}/scraped_shakespeare_data_part_{chunk_number}.csv'\n",
        "    with open(csv_file_name, mode='w', newline='', encoding='utf-8') as file:\n",
        "        writer = csv.writer(file)\n",
        "        writer.writerow(['URL', 'Title', 'Content'])  # 헤더\n",
        "        for data in scraped_data:\n",
        "            writer.writerow([data['url'], data['title'], data['content']])\n",
        "\n",
        "    chunk_number += 1\n",
        "\n",
        "print(\"All chunks saved to Google Drive.\")"
      ]
    }
  ]
}